{
  "nbformat": 4,
  "nbformat_minor": 0,
  "metadata": {
    "colab": {
      "provenance": [],
      "toc_visible": true,
      "authorship_tag": "ABX9TyPv+AmdQ4JTNJwSgqbZlTjs",
      "include_colab_link": true
    },
    "kernelspec": {
      "name": "python3",
      "display_name": "Python 3"
    },
    "language_info": {
      "name": "python"
    }
  },
  "cells": [
    {
      "cell_type": "markdown",
      "metadata": {
        "id": "view-in-github",
        "colab_type": "text"
      },
      "source": [
        "<a href=\"https://colab.research.google.com/github/Abhinavpanjiyar1/100-days-python-projects/blob/main/pytorch_workflow.ipynb\" target=\"_parent\"><img src=\"https://colab.research.google.com/assets/colab-badge.svg\" alt=\"Open In Colab\"/></a>"
      ]
    },
    {
      "cell_type": "markdown",
      "source": [
        "# PYTORCH WORKFLOW"
      ],
      "metadata": {
        "id": "rkk4foGnWcnk"
      }
    },
    {
      "cell_type": "code",
      "source": [
        "import torch\n",
        "from torch import nn\n",
        "import matplotlib.pyplot as plt"
      ],
      "metadata": {
        "id": "uuZlK76VWgWI"
      },
      "execution_count": 1,
      "outputs": []
    },
    {
      "cell_type": "code",
      "source": [
        "# Linear regression\n",
        "\n",
        "weight = 0.7\n",
        "bias = 0.3\n",
        "start = 0\n",
        "end= 1\n",
        "step = 0.02\n",
        "X = torch.arange(start,end,step).unsqueeze(dim=1)\n",
        "y= weight * X + bias\n",
        "\n",
        "X[:10], y[:10]\n"
      ],
      "metadata": {
        "colab": {
          "base_uri": "https://localhost:8080/"
        },
        "id": "B50cL1cYX0_0",
        "outputId": "9d07aba4-8861-4068-b324-aa490e68e6cc"
      },
      "execution_count": 2,
      "outputs": [
        {
          "output_type": "execute_result",
          "data": {
            "text/plain": [
              "(tensor([[0.0000],\n",
              "         [0.0200],\n",
              "         [0.0400],\n",
              "         [0.0600],\n",
              "         [0.0800],\n",
              "         [0.1000],\n",
              "         [0.1200],\n",
              "         [0.1400],\n",
              "         [0.1600],\n",
              "         [0.1800]]),\n",
              " tensor([[0.3000],\n",
              "         [0.3140],\n",
              "         [0.3280],\n",
              "         [0.3420],\n",
              "         [0.3560],\n",
              "         [0.3700],\n",
              "         [0.3840],\n",
              "         [0.3980],\n",
              "         [0.4120],\n",
              "         [0.4260]]))"
            ]
          },
          "metadata": {},
          "execution_count": 2
        }
      ]
    },
    {
      "cell_type": "code",
      "source": [
        "len(X), len(y)"
      ],
      "metadata": {
        "colab": {
          "base_uri": "https://localhost:8080/"
        },
        "id": "l9vJci11ab51",
        "outputId": "fad4db37-2bf0-4d67-a524-95e0b78000f9"
      },
      "execution_count": 3,
      "outputs": [
        {
          "output_type": "execute_result",
          "data": {
            "text/plain": [
              "(50, 50)"
            ]
          },
          "metadata": {},
          "execution_count": 3
        }
      ]
    },
    {
      "cell_type": "markdown",
      "source": [
        "# SPLITTING DATA INTO TRAIN AND TEST SETS"
      ],
      "metadata": {
        "id": "aEm63xx1cPYw"
      }
    },
    {
      "cell_type": "code",
      "source": [
        "train_split = int(0.8 * len(X))\n",
        "X_train, y_train = X[:train_split], y[:train_split]\n",
        "X_test, y_test = X[train_split:], y[train_split:]\n",
        "\n",
        "len(X_train), len(y_train), len(X_test), len(y_test)\n"
      ],
      "metadata": {
        "colab": {
          "base_uri": "https://localhost:8080/"
        },
        "id": "Rbjj1ZDOcTJB",
        "outputId": "22baa5b1-32ab-404f-c153-35afe59d8b78"
      },
      "execution_count": 4,
      "outputs": [
        {
          "output_type": "execute_result",
          "data": {
            "text/plain": [
              "(40, 40, 10, 10)"
            ]
          },
          "metadata": {},
          "execution_count": 4
        }
      ]
    },
    {
      "cell_type": "code",
      "source": [
        "X_train, y_train"
      ],
      "metadata": {
        "colab": {
          "base_uri": "https://localhost:8080/"
        },
        "id": "wq07Yq4Se_pt",
        "outputId": "6824f2a7-678f-47e5-ab06-f74229263303"
      },
      "execution_count": 5,
      "outputs": [
        {
          "output_type": "execute_result",
          "data": {
            "text/plain": [
              "(tensor([[0.0000],\n",
              "         [0.0200],\n",
              "         [0.0400],\n",
              "         [0.0600],\n",
              "         [0.0800],\n",
              "         [0.1000],\n",
              "         [0.1200],\n",
              "         [0.1400],\n",
              "         [0.1600],\n",
              "         [0.1800],\n",
              "         [0.2000],\n",
              "         [0.2200],\n",
              "         [0.2400],\n",
              "         [0.2600],\n",
              "         [0.2800],\n",
              "         [0.3000],\n",
              "         [0.3200],\n",
              "         [0.3400],\n",
              "         [0.3600],\n",
              "         [0.3800],\n",
              "         [0.4000],\n",
              "         [0.4200],\n",
              "         [0.4400],\n",
              "         [0.4600],\n",
              "         [0.4800],\n",
              "         [0.5000],\n",
              "         [0.5200],\n",
              "         [0.5400],\n",
              "         [0.5600],\n",
              "         [0.5800],\n",
              "         [0.6000],\n",
              "         [0.6200],\n",
              "         [0.6400],\n",
              "         [0.6600],\n",
              "         [0.6800],\n",
              "         [0.7000],\n",
              "         [0.7200],\n",
              "         [0.7400],\n",
              "         [0.7600],\n",
              "         [0.7800]]),\n",
              " tensor([[0.3000],\n",
              "         [0.3140],\n",
              "         [0.3280],\n",
              "         [0.3420],\n",
              "         [0.3560],\n",
              "         [0.3700],\n",
              "         [0.3840],\n",
              "         [0.3980],\n",
              "         [0.4120],\n",
              "         [0.4260],\n",
              "         [0.4400],\n",
              "         [0.4540],\n",
              "         [0.4680],\n",
              "         [0.4820],\n",
              "         [0.4960],\n",
              "         [0.5100],\n",
              "         [0.5240],\n",
              "         [0.5380],\n",
              "         [0.5520],\n",
              "         [0.5660],\n",
              "         [0.5800],\n",
              "         [0.5940],\n",
              "         [0.6080],\n",
              "         [0.6220],\n",
              "         [0.6360],\n",
              "         [0.6500],\n",
              "         [0.6640],\n",
              "         [0.6780],\n",
              "         [0.6920],\n",
              "         [0.7060],\n",
              "         [0.7200],\n",
              "         [0.7340],\n",
              "         [0.7480],\n",
              "         [0.7620],\n",
              "         [0.7760],\n",
              "         [0.7900],\n",
              "         [0.8040],\n",
              "         [0.8180],\n",
              "         [0.8320],\n",
              "         [0.8460]]))"
            ]
          },
          "metadata": {},
          "execution_count": 5
        }
      ]
    },
    {
      "cell_type": "code",
      "source": [
        "def plot_predictions (train_data = X_train,\n",
        "                      train_labels= y_train,\n",
        "                      test_data=X_test,\n",
        "                      test_labels=y_test,\n",
        "                      predictions= None):\n",
        "  \"\"\"\n",
        "  Plot training data, test data and compare predictions.\n",
        "  \"\"\"\n",
        "  plt.figure(figsize=(10,4))\n",
        "\n",
        "  #plot training data in green\n",
        "  plt.scatter(train_data, train_labels, c=\"g\", s=5, label= \"Training data\")\n",
        "\n",
        "  #plot test data in red\n",
        "  plt.scatter(test_data, test_labels, c=\"r\", s=5, label =\"Test data\")\n",
        "\n",
        "  if predictions is not None:\n",
        "    plt.scatter(test_data, predictions, c=\"purple\", s=5, label= \"Predictions\" )\n",
        "\n",
        "    #show the legend\n",
        "\n",
        "    plt.legend(prop = {\"size\":18});\n"
      ],
      "metadata": {
        "id": "BQczOLaqfJw8"
      },
      "execution_count": 43,
      "outputs": []
    },
    {
      "cell_type": "code",
      "source": [
        "plot_predictions();\n"
      ],
      "metadata": {
        "colab": {
          "base_uri": "https://localhost:8080/",
          "height": 368
        },
        "id": "pCKQ8yGji3Lh",
        "outputId": "15d3d161-a46f-45e6-b20f-2850e642b16e"
      },
      "execution_count": 7,
      "outputs": [
        {
          "output_type": "display_data",
          "data": {
            "text/plain": [
              "<Figure size 1000x400 with 1 Axes>"
            ],
            "image/png": "[encoded data removed]"
          },
          "metadata": {}
        }
      ]
    },
    {
      "cell_type": "code",
      "source": [
        "# building 1st pytorch model\n",
        "\n",
        "# creating linear regression model class\n",
        "from torch import nn\n",
        "class LinearRegressionModel(nn.Module):\n",
        "  def __init__(self):\n",
        "    super().__init__()\n",
        "    self.Weights =  nn.Parameter(torch.randn(1,  # Specify the shape of the tensor\n",
        "                                            dtype=torch.float,\n",
        "                                            requires_grad=True))\n",
        "    self.bias = nn.Parameter(torch.randn(1,  # Specify the shape of the tensor\n",
        "                                         dtype=torch.float,\n",
        "                                         requires_grad=True))\n",
        "\n",
        "  def forward(self, x:torch.Tensor) -> torch.tensor:\n",
        "      return self.Weights * x + self.bias # Make sure Weights is capitalized here to match __init__\n",
        "\n",
        "\n",
        "\n",
        "\n",
        "\n",
        "\n",
        "\n"
      ],
      "metadata": {
        "id": "3R4pf4uOWck2"
      },
      "execution_count": 8,
      "outputs": []
    },
    {
      "cell_type": "code",
      "source": [
        "torch.manual_seed(50)\n",
        "\n",
        "model_0 = LinearRegressionModel()\n",
        "list(model_0.parameters())\n"
      ],
      "metadata": {
        "colab": {
          "base_uri": "https://localhost:8080/"
        },
        "id": "4m-LaMeya1CQ",
        "outputId": "14cb28ba-ae11-4b66-8886-5a95aedaa4f2"
      },
      "execution_count": 9,
      "outputs": [
        {
          "output_type": "execute_result",
          "data": {
            "text/plain": [
              "[Parameter containing:\n",
              " tensor([0.4625], requires_grad=True),\n",
              " Parameter containing:\n",
              " tensor([-0.1692], requires_grad=True)]"
            ]
          },
          "metadata": {},
          "execution_count": 9
        }
      ]
    },
    {
      "cell_type": "code",
      "source": [
        "model_0.state_dict()"
      ],
      "metadata": {
        "colab": {
          "base_uri": "https://localhost:8080/"
        },
        "id": "KtPGsesek1r7",
        "outputId": "1b2a9e88-95a3-475e-ab77-b8f08ea3c401"
      },
      "execution_count": 10,
      "outputs": [
        {
          "output_type": "execute_result",
          "data": {
            "text/plain": [
              "OrderedDict([('Weights', tensor([0.4625])), ('bias', tensor([-0.1692]))])"
            ]
          },
          "metadata": {},
          "execution_count": 10
        }
      ]
    },
    {
      "cell_type": "code",
      "source": [
        "# make prediction with model\n",
        "\n",
        "with torch.inference_mode():\n",
        "  y_preds = model_0(X_test)\n",
        "\n",
        "y_preds"
      ],
      "metadata": {
        "colab": {
          "base_uri": "https://localhost:8080/"
        },
        "id": "DHt-cPEbk7Yb",
        "outputId": "89e746c8-3bd4-4e12-d43d-86d48fb49eec"
      },
      "execution_count": 11,
      "outputs": [
        {
          "output_type": "execute_result",
          "data": {
            "text/plain": [
              "tensor([[0.2008],\n",
              "        [0.2100],\n",
              "        [0.2193],\n",
              "        [0.2285],\n",
              "        [0.2378],\n",
              "        [0.2470],\n",
              "        [0.2563],\n",
              "        [0.2655],\n",
              "        [0.2748],\n",
              "        [0.2840]])"
            ]
          },
          "metadata": {},
          "execution_count": 11
        }
      ]
    },
    {
      "cell_type": "code",
      "source": [
        "plot_predictions(predictions = y_preds)"
      ],
      "metadata": {
        "colab": {
          "base_uri": "https://localhost:8080/",
          "height": 368
        },
        "id": "6P8dNKNWmdmn",
        "outputId": "c34733ef-7283-4fea-b843-f546c98d093b"
      },
      "execution_count": 12,
      "outputs": [
        {
          "output_type": "display_data",
          "data": {
            "text/plain": [
              "<Figure size 1000x400 with 1 Axes>"
            ],
            "image/png": "[encoded data removed]"
          },
          "metadata": {}
        }
      ]
    },
    {
      "cell_type": "code",
      "source": [
        "# setup a loss function\n",
        "\n",
        "loss_fn = nn.L1Loss()\n",
        "\n",
        "\n",
        "# setup a optimizer\n",
        "optimizer = torch.optim.SGD(params= model_0.parameters(),lr = 0.1) # lr= learning rate"
      ],
      "metadata": {
        "id": "xXNZfeJ0qaNW"
      },
      "execution_count": 13,
      "outputs": []
    },
    {
      "cell_type": "code",
      "source": [
        "torch.manual_seed(40)\n",
        "# Building a training loop in parameter and testing loop\n",
        "# training\n",
        "epochs =100\n",
        "\n",
        "epoch_count= []\n",
        "loss_values= []\n",
        "test_loss_values= []\n",
        "\n",
        "\n",
        "for epoch in range( epochs ):\n",
        "\n",
        "  model_0.train()\n",
        "\n",
        "  y_pred = model_0(X_train)\n",
        "  loss = loss_fn(y_pred, y_train)\n",
        "  print(f\"LOSS: {loss}\")\n",
        "  optimizer.zero_grad()\n",
        "  loss.backward()\n",
        "  optimizer.step()\n",
        "\n",
        "# testing\n",
        "  model_0.eval()\n",
        "  with torch.inference_mode():\n",
        "    test_pred = model_0(X_test)\n",
        "    test_loss = loss_fn(test_pred, y_test)\n",
        "  if epoch % 10 == 0:\n",
        "    epoch_count.append(epoch)\n",
        "    loss_values.append(loss)\n",
        "    test_loss_values.append(test_loss)\n",
        "    print(f\"EPOCH: {epoch} | Loss: {loss} | Test loss: {test_loss}\")\n",
        "    print(model_0.state_dict())\n",
        "\n"
      ],
      "metadata": {
        "colab": {
          "base_uri": "https://localhost:8080/"
        },
        "id": "I60OMubNzJKp",
        "outputId": "636f9c12-671e-402a-b20f-1e2c0703e042"
      },
      "execution_count": 14,
      "outputs": [
        {
          "output_type": "stream",
          "name": "stdout",
          "text": [
            "LOSS: 0.561846137046814\n",
            "EPOCH: 0 | Loss: 0.561846137046814 | Test loss: 0.5458905100822449\n",
            "OrderedDict([('Weights', tensor([0.5015])), ('bias', tensor([-0.0692]))])\n",
            "LOSS: 0.4466361403465271\n",
            "LOSS: 0.331426203250885\n",
            "LOSS: 0.21621616184711456\n",
            "LOSS: 0.1010061725974083\n",
            "LOSS: 0.014432480558753014\n",
            "LOSS: 0.08156018704175949\n",
            "LOSS: 0.03364982455968857\n",
            "LOSS: 0.0815601721405983\n",
            "LOSS: 0.03364982455968857\n",
            "LOSS: 0.0815601721405983\n",
            "EPOCH: 10 | Loss: 0.0815601721405983 | Test loss: 0.018095379695296288\n",
            "OrderedDict([('Weights', tensor([0.6689])), ('bias', tensor([0.3458]))])\n",
            "LOSS: 0.03364982455968857\n",
            "LOSS: 0.0815601721405983\n",
            "LOSS: 0.03364982455968857\n",
            "LOSS: 0.0815601721405983\n",
            "LOSS: 0.03364982455968857\n",
            "LOSS: 0.0815601721405983\n",
            "LOSS: 0.03364982455968857\n",
            "LOSS: 0.0815601721405983\n",
            "LOSS: 0.03364982455968857\n",
            "LOSS: 0.0815601721405983\n",
            "EPOCH: 20 | Loss: 0.0815601721405983 | Test loss: 0.018095379695296288\n",
            "OrderedDict([('Weights', tensor([0.6689])), ('bias', tensor([0.3458]))])\n",
            "LOSS: 0.03364982455968857\n",
            "LOSS: 0.0815601721405983\n",
            "LOSS: 0.03364982455968857\n",
            "LOSS: 0.0815601721405983\n",
            "LOSS: 0.03364982455968857\n",
            "LOSS: 0.0815601721405983\n",
            "LOSS: 0.03364982455968857\n",
            "LOSS: 0.0815601721405983\n",
            "LOSS: 0.03364982455968857\n",
            "LOSS: 0.0815601721405983\n",
            "EPOCH: 30 | Loss: 0.0815601721405983 | Test loss: 0.018095379695296288\n",
            "OrderedDict([('Weights', tensor([0.6689])), ('bias', tensor([0.3458]))])\n",
            "LOSS: 0.03364982455968857\n",
            "LOSS: 0.0815601721405983\n",
            "LOSS: 0.03364982455968857\n",
            "LOSS: 0.0815601721405983\n",
            "LOSS: 0.03364982455968857\n",
            "LOSS: 0.0815601721405983\n",
            "LOSS: 0.03364982455968857\n",
            "LOSS: 0.0815601721405983\n",
            "LOSS: 0.03364982455968857\n",
            "LOSS: 0.0815601721405983\n",
            "EPOCH: 40 | Loss: 0.0815601721405983 | Test loss: 0.018095379695296288\n",
            "OrderedDict([('Weights', tensor([0.6689])), ('bias', tensor([0.3458]))])\n",
            "LOSS: 0.03364982455968857\n",
            "LOSS: 0.0815601721405983\n",
            "LOSS: 0.03364982455968857\n",
            "LOSS: 0.0815601721405983\n",
            "LOSS: 0.03364982455968857\n",
            "LOSS: 0.0815601721405983\n",
            "LOSS: 0.03364982455968857\n",
            "LOSS: 0.0815601721405983\n",
            "LOSS: 0.03364982455968857\n",
            "LOSS: 0.0815601721405983\n",
            "EPOCH: 50 | Loss: 0.0815601721405983 | Test loss: 0.018095379695296288\n",
            "OrderedDict([('Weights', tensor([0.6689])), ('bias', tensor([0.3458]))])\n",
            "LOSS: 0.03364982455968857\n",
            "LOSS: 0.0815601721405983\n",
            "LOSS: 0.03364982455968857\n",
            "LOSS: 0.0815601721405983\n",
            "LOSS: 0.03364982455968857\n",
            "LOSS: 0.0815601721405983\n",
            "LOSS: 0.03364982455968857\n",
            "LOSS: 0.0815601721405983\n",
            "LOSS: 0.03364982455968857\n",
            "LOSS: 0.0815601721405983\n",
            "EPOCH: 60 | Loss: 0.0815601721405983 | Test loss: 0.018095379695296288\n",
            "OrderedDict([('Weights', tensor([0.6689])), ('bias', tensor([0.3458]))])\n",
            "LOSS: 0.03364982455968857\n",
            "LOSS: 0.0815601721405983\n",
            "LOSS: 0.03364982455968857\n",
            "LOSS: 0.0815601721405983\n",
            "LOSS: 0.03364982455968857\n",
            "LOSS: 0.0815601721405983\n",
            "LOSS: 0.03364982455968857\n",
            "LOSS: 0.0815601721405983\n",
            "LOSS: 0.03364982455968857\n",
            "LOSS: 0.0815601721405983\n",
            "EPOCH: 70 | Loss: 0.0815601721405983 | Test loss: 0.018095379695296288\n",
            "OrderedDict([('Weights', tensor([0.6689])), ('bias', tensor([0.3458]))])\n",
            "LOSS: 0.03364982455968857\n",
            "LOSS: 0.0815601721405983\n",
            "LOSS: 0.03364982455968857\n",
            "LOSS: 0.0815601721405983\n",
            "LOSS: 0.03364982455968857\n",
            "LOSS: 0.0815601721405983\n",
            "LOSS: 0.03364982455968857\n",
            "LOSS: 0.0815601721405983\n",
            "LOSS: 0.03364982455968857\n",
            "LOSS: 0.0815601721405983\n",
            "EPOCH: 80 | Loss: 0.0815601721405983 | Test loss: 0.018095379695296288\n",
            "OrderedDict([('Weights', tensor([0.6689])), ('bias', tensor([0.3458]))])\n",
            "LOSS: 0.03364982455968857\n",
            "LOSS: 0.0815601721405983\n",
            "LOSS: 0.03364982455968857\n",
            "LOSS: 0.0815601721405983\n",
            "LOSS: 0.03364982455968857\n",
            "LOSS: 0.0815601721405983\n",
            "LOSS: 0.03364982455968857\n",
            "LOSS: 0.0815601721405983\n",
            "LOSS: 0.03364982455968857\n",
            "LOSS: 0.0815601721405983\n",
            "EPOCH: 90 | Loss: 0.0815601721405983 | Test loss: 0.018095379695296288\n",
            "OrderedDict([('Weights', tensor([0.6689])), ('bias', tensor([0.3458]))])\n",
            "LOSS: 0.03364982455968857\n",
            "LOSS: 0.0815601721405983\n",
            "LOSS: 0.03364982455968857\n",
            "LOSS: 0.0815601721405983\n",
            "LOSS: 0.03364982455968857\n",
            "LOSS: 0.0815601721405983\n",
            "LOSS: 0.03364982455968857\n",
            "LOSS: 0.0815601721405983\n",
            "LOSS: 0.03364982455968857\n"
          ]
        }
      ]
    },
    {
      "cell_type": "code",
      "source": [
        "import numpy as np\n",
        "np.array(torch.tensor(loss_values).numpy()), test_loss_values\n"
      ],
      "metadata": {
        "id": "8c9JH8rbFECs",
        "outputId": "63f2a6cd-9368-4dcf-de62-b10ad566c83d",
        "colab": {
          "base_uri": "https://localhost:8080/"
        }
      },
      "execution_count": 15,
      "outputs": [
        {
          "output_type": "execute_result",
          "data": {
            "text/plain": [
              "(array([0.56184614, 0.08156017, 0.08156017, 0.08156017, 0.08156017,\n",
              "        0.08156017, 0.08156017, 0.08156017, 0.08156017, 0.08156017],\n",
              "       dtype=float32),\n",
              " [tensor(0.5459),\n",
              "  tensor(0.0181),\n",
              "  tensor(0.0181),\n",
              "  tensor(0.0181),\n",
              "  tensor(0.0181),\n",
              "  tensor(0.0181),\n",
              "  tensor(0.0181),\n",
              "  tensor(0.0181),\n",
              "  tensor(0.0181),\n",
              "  tensor(0.0181)])"
            ]
          },
          "metadata": {},
          "execution_count": 15
        }
      ]
    },
    {
      "cell_type": "code",
      "source": [
        "# plot the loss curve\n",
        "\n",
        "plt.plot(epoch_count, np.array(torch.tensor(loss_values).numpy()), label = \"Train loss\")\n",
        "plt.plot(epoch_count, test_loss_values, label = \"Test loss\")\n",
        "plt.title(\"Training and test loss curve\")\n",
        "plt.ylabel(\"Loss\")\n",
        "plt.xlabel(\"Epochs\")\n",
        "plt.legend();\n"
      ],
      "metadata": {
        "id": "8Ah5ArsFFW1_",
        "outputId": "5bdffe0b-82ef-4cb1-ad83-af7f3d65ac34",
        "colab": {
          "base_uri": "https://localhost:8080/",
          "height": 472
        }
      },
      "execution_count": 16,
      "outputs": [
        {
          "output_type": "display_data",
          "data": {
            "text/plain": [
              "<Figure size 640x480 with 1 Axes>"
            ],
            "image/png": "[encoded data removed]"
          },
          "metadata": {}
        }
      ]
    },
    {
      "cell_type": "code",
      "source": [
        "with torch.inference_mode():\n",
        "  y_preda_new = model_0(X_test)"
      ],
      "metadata": {
        "id": "_KfkrkRXAoNZ"
      },
      "execution_count": 17,
      "outputs": []
    },
    {
      "cell_type": "code",
      "source": [
        "model_0.state_dict()"
      ],
      "metadata": {
        "colab": {
          "base_uri": "https://localhost:8080/"
        },
        "id": "iDz3k-HQ6Zos",
        "outputId": "538db26f-568a-47cc-89dc-1ec2212f0886"
      },
      "execution_count": 18,
      "outputs": [
        {
          "output_type": "execute_result",
          "data": {
            "text/plain": [
              "OrderedDict([('Weights', tensor([0.6299])), ('bias', tensor([0.2458]))])"
            ]
          },
          "metadata": {},
          "execution_count": 18
        }
      ]
    },
    {
      "cell_type": "code",
      "source": [
        "weight, bias"
      ],
      "metadata": {
        "colab": {
          "base_uri": "https://localhost:8080/"
        },
        "id": "zyHwzgsk8bnX",
        "outputId": "a8a12322-0369-4fd2-c669-aadee57b13d5"
      },
      "execution_count": 19,
      "outputs": [
        {
          "output_type": "execute_result",
          "data": {
            "text/plain": [
              "(0.7, 0.3)"
            ]
          },
          "metadata": {},
          "execution_count": 19
        }
      ]
    },
    {
      "cell_type": "code",
      "source": [
        "plot_predictions (predictions = y_preda_new)"
      ],
      "metadata": {
        "colab": {
          "base_uri": "https://localhost:8080/",
          "height": 368
        },
        "id": "Nt6mEQ279rHB",
        "outputId": "5273e4ca-fdbc-4b9a-fe95-cc21b4b5cbdc"
      },
      "execution_count": 20,
      "outputs": [
        {
          "output_type": "display_data",
          "data": {
            "text/plain": [
              "<Figure size 1000x400 with 1 Axes>"
            ],
            "image/png": "[encoded data removed]"
          },
          "metadata": {}
        }
      ]
    },
    {
      "cell_type": "markdown",
      "source": [
        "# SAVING A MODEL IN PYTORCH\n"
      ],
      "metadata": {
        "id": "tK5nwK46iG5B"
      }
    },
    {
      "cell_type": "code",
      "source": [
        "# saving a pytorch model\n",
        "\n",
        "from pathlib import Path\n",
        "\n",
        "#create model directory\n",
        "\n",
        "MODEL_PATH = Path(\"models\")\n",
        "MODEL_PATH.mkdir(parents = True, exist_ok = True)\n",
        "\n",
        "#Create model save path\n",
        "\n",
        "MODEL_NAME = \"01_pytorch_workflow_model_0.pth\"\n",
        "MODEL_SAVE_PATH = MODEL_PATH / MODEL_NAME\n",
        "\n",
        "# save the model state dict\n",
        "\n",
        "print(f\"Saving model to : {MODEL_SAVE_PATH}\")\n",
        "torch.save(obj = model_0.state_dict(), f=MODEL_SAVE_PATH)\n"
      ],
      "metadata": {
        "id": "M1gFFpNBiJ0w",
        "outputId": "6f539886-5dc8-4fb1-eeb8-644fc49eca8f",
        "colab": {
          "base_uri": "https://localhost:8080/"
        }
      },
      "execution_count": 22,
      "outputs": [
        {
          "output_type": "stream",
          "name": "stdout",
          "text": [
            "Saving model to : models/01_pytorch_workflow_model_0.pth\n"
          ]
        }
      ]
    },
    {
      "cell_type": "code",
      "source": [
        "!ls -1 models"
      ],
      "metadata": {
        "id": "QzCVV5mImWCu",
        "outputId": "5b2fa33a-fd5a-4e5d-8eb9-0ea5068cbc66",
        "colab": {
          "base_uri": "https://localhost:8080/"
        }
      },
      "execution_count": 24,
      "outputs": [
        {
          "output_type": "stream",
          "name": "stdout",
          "text": [
            "01_pytorch_workflow_model_0.pth\n"
          ]
        }
      ]
    },
    {
      "cell_type": "code",
      "source": [],
      "metadata": {
        "id": "NRAi3LkPm0VQ"
      },
      "execution_count": null,
      "outputs": []
    },
    {
      "cell_type": "markdown",
      "source": [
        "# LOADING A PYTORCH MODEL"
      ],
      "metadata": {
        "id": "PboQYSvlnWhe"
      }
    },
    {
      "cell_type": "code",
      "source": [
        "model_0.state_dict()"
      ],
      "metadata": {
        "id": "_53vQ8uJnZOb",
        "outputId": "10c7afca-aafe-4643-c3c2-9447f7efe152",
        "colab": {
          "base_uri": "https://localhost:8080/"
        }
      },
      "execution_count": 25,
      "outputs": [
        {
          "output_type": "execute_result",
          "data": {
            "text/plain": [
              "OrderedDict([('Weights', tensor([0.6299])), ('bias', tensor([0.2458]))])"
            ]
          },
          "metadata": {},
          "execution_count": 25
        }
      ]
    },
    {
      "cell_type": "code",
      "source": [
        "loaded_model_0 = LinearRegressionModel()\n",
        "\n",
        "loaded_model_0.load_state_dict(torch.load(f= MODEL_SAVE_PATH))"
      ],
      "metadata": {
        "id": "RcPxWTpMp6EB",
        "outputId": "d0363e97-9008-4715-e0c9-a9fa89f460d0",
        "colab": {
          "base_uri": "https://localhost:8080/"
        }
      },
      "execution_count": 29,
      "outputs": [
        {
          "output_type": "execute_result",
          "data": {
            "text/plain": [
              "<All keys matched successfully>"
            ]
          },
          "metadata": {},
          "execution_count": 29
        }
      ]
    },
    {
      "cell_type": "code",
      "source": [
        "loaded_model_0.state_dict()"
      ],
      "metadata": {
        "id": "hK2pI8dbqVsT",
        "outputId": "97a2cd14-2227-400a-93ec-865a16ec200c",
        "colab": {
          "base_uri": "https://localhost:8080/"
        }
      },
      "execution_count": 30,
      "outputs": [
        {
          "output_type": "execute_result",
          "data": {
            "text/plain": [
              "OrderedDict([('Weights', tensor([0.6299])), ('bias', tensor([0.2458]))])"
            ]
          },
          "metadata": {},
          "execution_count": 30
        }
      ]
    },
    {
      "cell_type": "code",
      "source": [],
      "metadata": {
        "id": "jwSp07MfpnEg"
      },
      "execution_count": null,
      "outputs": []
    },
    {
      "cell_type": "code",
      "source": [
        "model_0.eval()\n",
        "with torch.inference_mode():\n",
        "  loaded_model_preds = loaded_model_0(X_test)\n",
        "\n",
        "loaded_model_preds"
      ],
      "metadata": {
        "id": "FsKhboPzne17",
        "outputId": "3469730e-3d7d-475a-9807-3b76051cf754",
        "colab": {
          "base_uri": "https://localhost:8080/"
        }
      },
      "execution_count": 31,
      "outputs": [
        {
          "output_type": "execute_result",
          "data": {
            "text/plain": [
              "tensor([[0.7497],\n",
              "        [0.7623],\n",
              "        [0.7749],\n",
              "        [0.7875],\n",
              "        [0.8001],\n",
              "        [0.8127],\n",
              "        [0.8253],\n",
              "        [0.8379],\n",
              "        [0.8505],\n",
              "        [0.8631]])"
            ]
          },
          "metadata": {},
          "execution_count": 31
        }
      ]
    },
    {
      "cell_type": "code",
      "source": [
        "y_preds == loaded_model_preds"
      ],
      "metadata": {
        "id": "Q0W-VQwlpK1A",
        "outputId": "73af26d7-3072-4b8e-9195-6a673e8f4ff3",
        "colab": {
          "base_uri": "https://localhost:8080/"
        }
      },
      "execution_count": 32,
      "outputs": [
        {
          "output_type": "execute_result",
          "data": {
            "text/plain": [
              "tensor([[True],\n",
              "        [True],\n",
              "        [True],\n",
              "        [True],\n",
              "        [True],\n",
              "        [True],\n",
              "        [True],\n",
              "        [True],\n",
              "        [True],\n",
              "        [True]])"
            ]
          },
          "metadata": {},
          "execution_count": 32
        }
      ]
    },
    {
      "cell_type": "code",
      "source": [
        "# make some model preds\n",
        "\n",
        "model_0.eval()\n",
        "with torch.inference_mode():\n",
        "  y_preds = model_0(X_test)\n",
        "\n",
        "y_preds\n"
      ],
      "metadata": {
        "id": "U4hBiaydq_ah",
        "outputId": "787c16f6-0adf-4b10-929b-c7c3123b0f32",
        "colab": {
          "base_uri": "https://localhost:8080/"
        }
      },
      "execution_count": 33,
      "outputs": [
        {
          "output_type": "execute_result",
          "data": {
            "text/plain": [
              "tensor([[0.7497],\n",
              "        [0.7623],\n",
              "        [0.7749],\n",
              "        [0.7875],\n",
              "        [0.8001],\n",
              "        [0.8127],\n",
              "        [0.8253],\n",
              "        [0.8379],\n",
              "        [0.8505],\n",
              "        [0.8631]])"
            ]
          },
          "metadata": {},
          "execution_count": 33
        }
      ]
    },
    {
      "cell_type": "code",
      "source": [
        "y_preds == loaded_model_preds"
      ],
      "metadata": {
        "id": "LRmjSDhxrWC9",
        "outputId": "06ee61cd-7e30-492a-cdf5-30249133928f",
        "colab": {
          "base_uri": "https://localhost:8080/"
        }
      },
      "execution_count": 34,
      "outputs": [
        {
          "output_type": "execute_result",
          "data": {
            "text/plain": [
              "tensor([[True],\n",
              "        [True],\n",
              "        [True],\n",
              "        [True],\n",
              "        [True],\n",
              "        [True],\n",
              "        [True],\n",
              "        [True],\n",
              "        [True],\n",
              "        [True]])"
            ]
          },
          "metadata": {},
          "execution_count": 34
        }
      ]
    },
    {
      "cell_type": "markdown",
      "source": [
        "# putting it all together"
      ],
      "metadata": {
        "id": "IxnbeR6wrtzx"
      }
    },
    {
      "cell_type": "code",
      "source": [
        "import torch\n",
        "from torch import nn\n",
        "import matplotlib.pyplot as plt\n",
        "torch.__version__"
      ],
      "metadata": {
        "id": "xqkEvc3Vrx5V",
        "outputId": "b7c84534-40bd-4388-82de-2657ba9a8a1b",
        "colab": {
          "base_uri": "https://localhost:8080/",
          "height": 35
        }
      },
      "execution_count": 39,
      "outputs": [
        {
          "output_type": "execute_result",
          "data": {
            "text/plain": [
              "'2.3.1+cu121'"
            ],
            "application/vnd.google.colaboratory.intrinsic+json": {
              "type": "string"
            }
          },
          "metadata": {},
          "execution_count": 39
        }
      ]
    },
    {
      "cell_type": "code",
      "source": [
        "# setup device agnostic mode\n",
        "\n",
        "device = \"cuda\" if torch.cuda.is_available() else \"cpu\"\n",
        "print(f\"using device: {device}\")"
      ],
      "metadata": {
        "id": "qGVICsLbt0B5",
        "outputId": "46238ddd-2499-45ed-c15a-c13c48f74d89",
        "colab": {
          "base_uri": "https://localhost:8080/"
        }
      },
      "execution_count": 40,
      "outputs": [
        {
          "output_type": "stream",
          "name": "stdout",
          "text": [
            "using device: cpu\n"
          ]
        }
      ]
    },
    {
      "cell_type": "markdown",
      "source": [
        "#DATA\n"
      ],
      "metadata": {
        "id": "DSscDilSvEUN"
      }
    },
    {
      "cell_type": "code",
      "source": [
        "weight = 0.7\n",
        "bias = 0.3\n",
        "\n",
        "start = 0\n",
        "end = 1\n",
        "step = 0.02\n",
        "\n",
        "X = torch.arange(start,end,step).unsqueeze(dim = 1)\n",
        "y = weight * X + bias\n",
        "X[:10], y[:10]"
      ],
      "metadata": {
        "id": "2fGh4r_PvFd0",
        "outputId": "8611c869-f5e3-4b29-ca81-1ac1a0f8808c",
        "colab": {
          "base_uri": "https://localhost:8080/"
        }
      },
      "execution_count": 41,
      "outputs": [
        {
          "output_type": "execute_result",
          "data": {
            "text/plain": [
              "(tensor([[0.0000],\n",
              "         [0.0200],\n",
              "         [0.0400],\n",
              "         [0.0600],\n",
              "         [0.0800],\n",
              "         [0.1000],\n",
              "         [0.1200],\n",
              "         [0.1400],\n",
              "         [0.1600],\n",
              "         [0.1800]]),\n",
              " tensor([[0.3000],\n",
              "         [0.3140],\n",
              "         [0.3280],\n",
              "         [0.3420],\n",
              "         [0.3560],\n",
              "         [0.3700],\n",
              "         [0.3840],\n",
              "         [0.3980],\n",
              "         [0.4120],\n",
              "         [0.4260]]))"
            ]
          },
          "metadata": {},
          "execution_count": 41
        }
      ]
    },
    {
      "cell_type": "code",
      "source": [
        "# split the data\n",
        "\n",
        "train_split = int(0.8 * len(X))\n",
        "X_train, y_train = X[:train_split], y[:train_split]\n",
        "X_test, y_test = X[train_split:], y[train_split:]\n",
        "len(X_train), len(y_train), len(X_test), len(y_test)"
      ],
      "metadata": {
        "id": "m2iBWI94usJF",
        "outputId": "dd9c3d62-fc3d-4418-de2a-b6a7d153cffc",
        "colab": {
          "base_uri": "https://localhost:8080/"
        }
      },
      "execution_count": 42,
      "outputs": [
        {
          "output_type": "execute_result",
          "data": {
            "text/plain": [
              "(40, 40, 10, 10)"
            ]
          },
          "metadata": {},
          "execution_count": 42
        }
      ]
    },
    {
      "cell_type": "code",
      "source": [
        "#plot the data\n",
        "plot_predictions(X_train,y_train, X_test, y_test)"
      ],
      "metadata": {
        "id": "iuEoG9w7xyHm",
        "outputId": "acc78000-422d-49bd-b5a7-72a1a7d6b24e",
        "colab": {
          "base_uri": "https://localhost:8080/",
          "height": 368
        }
      },
      "execution_count": 44,
      "outputs": [
        {
          "output_type": "display_data",
          "data": {
            "text/plain": [
              "<Figure size 1000x400 with 1 Axes>"
            ],
            "image/png": "[encoded data removed]"
          },
          "metadata": {}
        }
      ]
    },
    {
      "cell_type": "markdown",
      "source": [
        "# Building a pytorch linear model"
      ],
      "metadata": {
        "id": "2-Uw6bWDyezO"
      }
    },
    {
      "cell_type": "code",
      "source": [],
      "metadata": {
        "id": "LF--_Sc1yiIj"
      },
      "execution_count": null,
      "outputs": []
    },
    {
      "cell_type": "code",
      "source": [],
      "metadata": {
        "id": "RKAq7u6XySOz"
      },
      "execution_count": null,
      "outputs": []
    }
  ]
}